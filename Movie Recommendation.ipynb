{
 "cells": [
  {
   "cell_type": "markdown",
   "id": "0c91fae1",
   "metadata": {},
   "source": [
    "## Movie Recommendation System"
   ]
  },
  {
   "cell_type": "code",
   "execution_count": null,
   "id": "972ee2e4",
   "metadata": {},
   "outputs": [],
   "source": [
    "import numpy as np\n",
    "import pandas as pd\n",
    "import matplotlib.pyplot as plt\n",
    "from sklearn.feature_extraction.text import TfidfVectorizer\n",
    "from sklearn.feature_extraction.text import CountVectorizer\n",
    "from sklearn.metrics.pairwise import linear_kernel\n",
    "from sklearn.metrics.pairwise import cosine_similarity\n",
    "from ast import literal_eval"
   ]
  },
  {
   "cell_type": "code",
   "execution_count": null,
   "id": "57e89313",
   "metadata": {},
   "outputs": [],
   "source": [
    "path = \"archive\"\n",
    "credits_df = pd.read_csv(path + \"/tmdb_5000_credits.csv\")\n",
    "movies_df = pd.read_csv(path + \"/tmdb_5000_movies.csv\")"
   ]
  },
  {
   "cell_type": "code",
   "execution_count": null,
   "id": "a2613d6b",
   "metadata": {},
   "outputs": [],
   "source": [
    "movies_df.head()"
   ]
  },
  {
   "cell_type": "code",
   "execution_count": null,
   "id": "906cd76c",
   "metadata": {},
   "outputs": [],
   "source": [
    "credits_df.head()"
   ]
  },
  {
   "cell_type": "code",
   "execution_count": null,
   "id": "c5d62c11",
   "metadata": {},
   "outputs": [],
   "source": [
    "credits_df.columns = ['id','tittle','cast','crew']\n",
    "movies_df = movies_df.merge(credits_df, on=\"id\")"
   ]
  },
  {
   "cell_type": "code",
   "execution_count": null,
   "id": "fa04d96d",
   "metadata": {},
   "outputs": [],
   "source": [
    "movies_df.head()"
   ]
  },
  {
   "cell_type": "code",
   "execution_count": null,
   "id": "02f0fcf9",
   "metadata": {},
   "outputs": [],
   "source": [
    "# Demographic Filtering\n",
    "C = movies_df[\"vote_average\"].mean()\n",
    "m = movies_df[\"vote_count\"].quantile(0.9)\n",
    "\n",
    "print(\"C: \", C)\n",
    "print(\"m: \", m)\n",
    "\n",
    "new_movies_df = movies_df.copy().loc[movies_df[\"vote_count\"] >= m]\n",
    "print(new_movies_df.shape)"
   ]
  },
  {
   "cell_type": "code",
   "execution_count": null,
   "id": "072d885a",
   "metadata": {},
   "outputs": [],
   "source": [
    "def weighted_rating(x, C=C, m=m):\n",
    "    v = x[\"vote_count\"]\n",
    "    R = x[\"vote_average\"]\n",
    "\n",
    "    return (v/(v + m) * R) + (m/(v + m) * C)"
   ]
  },
  {
   "cell_type": "code",
   "execution_count": null,
   "id": "cb2c7d9d",
   "metadata": {},
   "outputs": [],
   "source": [
    "new_movies_df[\"score\"] = new_movies_df.apply(weighted_rating, axis=1)\n",
    "new_movies_df = new_movies_df.sort_values('score', ascending=False)\n",
    "\n",
    "new_movies_df[[\"title\", \"vote_count\", \"vote_average\", \"score\"]].head(10)"
   ]
  },
  {
   "cell_type": "code",
   "execution_count": null,
   "id": "20ca0c46",
   "metadata": {},
   "outputs": [],
   "source": [
    "# Plot top 10 movies\n",
    "def plot():\n",
    "    popularity = movies_df.sort_values(\"popularity\", ascending=False)\n",
    "    plt.figure(figsize=(12, 6))\n",
    "    plt.barh(popularity[\"title\"].head(10), popularity[\"popularity\"].head(10), align=\"center\", color=\"skyblue\")\n",
    "    plt.gca().invert_yaxis()\n",
    "    plt.title(\"Top 10 movies\")\n",
    "    plt.xlabel(\"Popularity\")\n",
    "    plt.show()\n",
    "    \n",
    "\n",
    "plot()"
   ]
  },
  {
   "cell_type": "code",
   "execution_count": null,
   "id": "24ddc5ae",
   "metadata": {},
   "outputs": [],
   "source": [
    "# Content based Filtering\n",
    "print(movies_df[\"overview\"].head(5))"
   ]
  },
  {
   "cell_type": "code",
   "execution_count": null,
   "id": "429aa994",
   "metadata": {},
   "outputs": [],
   "source": [
    "tfidf = TfidfVectorizer(stop_words=\"english\")\n",
    "movies_df[\"overview\"] = movies_df[\"overview\"].fillna(\"\")\n",
    "\n",
    "tfidf_matrix = tfidf.fit_transform(movies_df[\"overview\"])\n",
    "print(tfidf_matrix.shape)"
   ]
  },
  {
   "cell_type": "code",
   "execution_count": null,
   "id": "e14e0a03",
   "metadata": {},
   "outputs": [],
   "source": [
    "# Compute similarity\n",
    "cosine_sim = linear_kernel(tfidf_matrix, tfidf_matrix)\n",
    "print(cosine_sim.shape)\n",
    "\n",
    "indices = pd.Series(movies_df.index, index=movies_df[\"title\"]).drop_duplicates()\n",
    "print(indices.head())"
   ]
  },
  {
   "cell_type": "code",
   "execution_count": null,
   "id": "39cdad1c",
   "metadata": {},
   "outputs": [],
   "source": [
    "def get_recommendations(title, cosine_sim=cosine_sim):\n",
    "    \"\"\"\n",
    "    in this function,\n",
    "        we take the cosine score of given movie\n",
    "        sort them based on cosine score (movie_id, cosine_score)\n",
    "        take the next 10 values because the first entry is itself\n",
    "        get those movie indices\n",
    "        map those indices to titles\n",
    "        return title list\n",
    "    \"\"\"\n",
    "    idx = indices[title]\n",
    "    sim_scores = list(enumerate(cosine_sim[idx]))\n",
    "    sim_scores = sorted(sim_scores, key=lambda x: x[1], reverse=True)\n",
    "    sim_scores = sim_scores[1:11]\n",
    "    # (a, b) where a is id of movie, b is sim_score\n",
    "\n",
    "    movies_indices = [ind[0] for ind in sim_scores]\n",
    "    movies = movies_df[\"title\"].iloc[movies_indices]\n",
    "    return movies"
   ]
  },
  {
   "cell_type": "code",
   "execution_count": null,
   "id": "6aaeaee0",
   "metadata": {},
   "outputs": [],
   "source": [
    "print(\"################ Content Based Filtering - plot#############\")\n",
    "print()\n",
    "print(\"Recommendations for The Dark Knight Rises\")\n",
    "print(get_recommendations(\"The Dark Knight Rises\"))\n",
    "print()\n",
    "print(\"Recommendations for Avengers\")\n",
    "print(get_recommendations(\"The Avengers\"))"
   ]
  },
  {
   "cell_type": "code",
   "execution_count": null,
   "id": "317074a0",
   "metadata": {},
   "outputs": [],
   "source": [
    "features = [\"cast\", \"crew\", \"keywords\", \"genres\"]\n",
    "\n",
    "for feature in features:\n",
    "    movies_df[feature] = movies_df[feature].apply(literal_eval)\n",
    "\n",
    "movies_df[features].head(10)"
   ]
  },
  {
   "cell_type": "code",
   "execution_count": null,
   "id": "6948b882",
   "metadata": {},
   "outputs": [],
   "source": [
    "def get_director(x):\n",
    "    for i in x:\n",
    "        if i[\"job\"] == \"Director\":\n",
    "            return i[\"name\"]\n",
    "    return np.nan"
   ]
  },
  {
   "cell_type": "code",
   "execution_count": null,
   "id": "2506084e",
   "metadata": {},
   "outputs": [],
   "source": [
    "def get_list(x):\n",
    "    if isinstance(x, list):\n",
    "        names = [i[\"name\"] for i in x]\n",
    "\n",
    "        if len(names) > 3:\n",
    "            names = names[:3]\n",
    "\n",
    "        return names\n",
    "\n",
    "    return []"
   ]
  },
  {
   "cell_type": "code",
   "execution_count": null,
   "id": "883c4684",
   "metadata": {},
   "outputs": [],
   "source": [
    "movies_df[\"director\"] = movies_df[\"crew\"].apply(get_director)\n",
    "\n",
    "features = [\"cast\", \"keywords\", \"genres\"]\n",
    "for feature in features:\n",
    "    movies_df[feature] = movies_df[feature].apply(get_list)"
   ]
  },
  {
   "cell_type": "code",
   "execution_count": null,
   "id": "47d9dc03",
   "metadata": {},
   "outputs": [],
   "source": [
    "movies_df[['title', 'cast', 'director', 'keywords', 'genres']].head()"
   ]
  },
  {
   "cell_type": "code",
   "execution_count": null,
   "id": "58641b54",
   "metadata": {},
   "outputs": [],
   "source": [
    "def clean_data(x):\n",
    "    if isinstance(x, list):\n",
    "        return [str.lower(i.replace(\" \", \"\")) for i in x]\n",
    "    else:\n",
    "        if isinstance(x, str):\n",
    "            return str.lower(x.replace(\" \", \"\"))\n",
    "        else:\n",
    "            return \"\""
   ]
  },
  {
   "cell_type": "code",
   "execution_count": null,
   "id": "b53336ce",
   "metadata": {},
   "outputs": [],
   "source": [
    "features = ['cast', 'keywords', 'director', 'genres']\n",
    "for feature in features:\n",
    "    movies_df[feature] = movies_df[feature].apply(clean_data)"
   ]
  },
  {
   "cell_type": "code",
   "execution_count": null,
   "id": "85aa3133",
   "metadata": {},
   "outputs": [],
   "source": [
    "def create_soup(x):\n",
    "    return ' '.join(x['keywords']) + ' ' + ' '.join(x['cast']) + ' ' + x['director'] + ' ' + ' '.join(x['genres'])\n",
    "\n",
    "\n",
    "movies_df[\"soup\"] = movies_df.apply(create_soup, axis=1)\n",
    "print(movies_df[\"soup\"].head())"
   ]
  },
  {
   "cell_type": "code",
   "execution_count": null,
   "id": "e6c59e7f",
   "metadata": {},
   "outputs": [],
   "source": [
    "count_vectorizer = CountVectorizer(stop_words=\"english\")\n",
    "count_matrix = count_vectorizer.fit_transform(movies_df[\"soup\"])\n",
    "\n",
    "print(count_matrix.shape)\n",
    "\n",
    "cosine_sim2 = cosine_similarity(count_matrix, count_matrix)\n",
    "print(cosine_sim2.shape)\n",
    "\n",
    "movies_df = movies_df.reset_index()\n",
    "indices = pd.Series(movies_df.index, index=movies_df['title'])"
   ]
  },
  {
   "cell_type": "code",
   "execution_count": null,
   "id": "66b89abb",
   "metadata": {
    "pycharm": {
     "name": "#%%\n"
    }
   },
   "outputs": [],
   "source": [
    "print(\"################ Content Based System - metadata #############\")\n",
    "print(\"Recommendations for The Dark Knight Rises\")\n",
    "print(get_recommendations(\"The Dark Knight Rises\", cosine_sim2))\n",
    "print()\n",
    "print(\"Recommendations for Avengers\")\n",
    "print(get_recommendations(\"The Avengers\", cosine_sim2))"
   ]
  }
 ],
 "metadata": {
  "kernelspec": {
   "name": "python3",
   "language": "python",
   "display_name": "Python 3"
  },
  "language_info": {
   "codemirror_mode": {
    "name": "ipython",
    "version": 3
   },
   "file_extension": ".py",
   "mimetype": "text/x-python",
   "name": "python",
   "nbconvert_exporter": "python",
   "pygments_lexer": "ipython3",
   "version": "3.8.0"
  }
 },
 "nbformat": 4,
 "nbformat_minor": 5
}